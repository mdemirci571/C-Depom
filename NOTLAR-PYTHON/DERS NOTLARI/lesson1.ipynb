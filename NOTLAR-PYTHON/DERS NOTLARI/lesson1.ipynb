{
 "cells": [
  {
   "cell_type": "code",
   "execution_count": 21,
   "metadata": {},
   "outputs": [
    {
     "name": "stdout",
     "output_type": "stream",
     "text": [
      "hello\n"
     ]
    }
   ],
   "source": [
    "print(\"hello\")"
   ]
  },
  {
   "cell_type": "code",
   "execution_count": 22,
   "metadata": {},
   "outputs": [
    {
     "data": {
      "text/plain": [
       "1"
      ]
     },
     "execution_count": 22,
     "metadata": {},
     "output_type": "execute_result"
    }
   ],
   "source": [
    "last_name = \"ciftcilik\"\n",
    "len(last_name)  #karakter uzunlugunu verir\n",
    "last_name[0]  # 0. index\n",
    "# slice metodu\n",
    "last_name[0:3]  # 0 dan baslar 3 haric 3 e kadar gider\n",
    "last_name[0:5:2]  # 0 dan baslar 5 e kadar ikişer gider \n",
    "last_name[::-1]  # bütün hepsini tersine cevirir\n",
    "last_name[2::3]  # 2 den baslar 3er atlayarak sona kadar gider\n",
    "last_name.upper() # string ifadelerde ceşitli metodlar nokta ile kullanılabilir\n",
    "last_name.title() # kelime baslarını büyük harf yapar\n",
    "last_name.count(\"i\") # kücük büyük harf duyarlılıgı var. i yi saydı \n",
    "last_name.lower().count(\"i\") # kücük büyük harf duyarlılıgı var. bundan dolayı önce hepsini kücük harfe dönüştürür\n",
    "last_name.split(\"c\")  # karakterleri parantez içindeki parametreye göre ayırır\n",
    "last_name.replace(\"k\",\"r\") # 1.yi 2.ci olarak değiştirir\n",
    "last_name.startswith(\"c\")  # boolen sonuc erir. parantez içindekinin baş harf olup olmadıgını kontrol eder\n",
    "last_name.strip()  # traşlamak için kullanılır. kenar boşlukları yada fazla yazılanları siler.\n",
    "last_name.index(\"i\") # valuenin index nosunu verir"
   ]
  },
  {
   "cell_type": "code",
   "execution_count": 36,
   "metadata": {},
   "outputs": [
    {
     "name": "stdout",
     "output_type": "stream",
     "text": [
      "<class 'float'>\n",
      "benim adım Maxim ve yaşım 40'tır\n"
     ]
    }
   ],
   "source": [
    "my_int = 8  # integar ifadelerde dört işlemde sonuc float olarak verir\n",
    "my_int **3\n",
    "my_int//3  # sayının küsürünü atıp tamsayı kısmını verir\n",
    "pi=3.14\n",
    "print(type(pi))  # türünü verir\n",
    "first_name=\"maxim\"\n",
    "age=40\n",
    "print(f\"benim adım {first_name.title()} ve yaşım {age}'tır\") # f string ifade içinde variable kullanabilmenin en temiz yoludur\n"
   ]
  },
  {
   "cell_type": "code",
   "execution_count": 43,
   "metadata": {},
   "outputs": [
    {
     "name": "stdout",
     "output_type": "stream",
     "text": [
      "lütfen ışıkları kapatınız!\n",
      "<class 'int'>\n",
      "<class 'str'>\n"
     ]
    },
    {
     "data": {
      "text/plain": [
       "'merhaba benim dünyam'"
      ]
     },
     "execution_count": 43,
     "metadata": {},
     "output_type": "execute_result"
    }
   ],
   "source": [
    "light_is_on=True\n",
    "if light_is_on:\n",
    "    print(\"lütfen ışıkları kapatınız!\")\n",
    "# if syntaxı\n",
    "\n",
    "sayı1=3\n",
    "sayı2=5\n",
    "sayı1==sayı2\n",
    "\n",
    "string_ifade=\"merhaba\"\n",
    "string_ifade2=\"benim dünyam\"\n",
    "integar_ifade=12\n",
    "\n",
    "print(type(integar_ifade))\n",
    "integar_ifade= str(integar_ifade)\n",
    "print(type(integar_ifade))\n",
    "string_ifade+ \" \" + string_ifade2    \n"
   ]
  },
  {
   "cell_type": "markdown",
   "metadata": {},
   "source": []
  },
  {
   "cell_type": "code",
   "execution_count": null,
   "metadata": {},
   "outputs": [],
   "source": []
  }
 ],
 "metadata": {
  "kernelspec": {
   "display_name": "Python 3",
   "language": "python",
   "name": "python3"
  },
  "language_info": {
   "codemirror_mode": {
    "name": "ipython",
    "version": 3
   },
   "file_extension": ".py",
   "mimetype": "text/x-python",
   "name": "python",
   "nbconvert_exporter": "python",
   "pygments_lexer": "ipython3",
   "version": "3.11.3"
  },
  "orig_nbformat": 4
 },
 "nbformat": 4,
 "nbformat_minor": 2
}
