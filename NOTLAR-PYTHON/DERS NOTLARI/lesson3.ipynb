{
 "cells": [
  {
   "cell_type": "code",
   "execution_count": 1,
   "metadata": {},
   "outputs": [
    {
     "data": {
      "text/plain": [
       "4"
      ]
     },
     "execution_count": 1,
     "metadata": {},
     "output_type": "execute_result"
    }
   ],
   "source": [
    "2 + 2"
   ]
  },
  {
   "cell_type": "code",
   "execution_count": 2,
   "metadata": {},
   "outputs": [],
   "source": [
    "if False: # false durumunda calısmayacak.\n",
    "    print('this block works!')"
   ]
  },
  {
   "cell_type": "code",
   "execution_count": 11,
   "metadata": {},
   "outputs": [
    {
     "name": "stdout",
     "output_type": "stream",
     "text": [
      "semsiye arabada kalsin\n"
     ]
    }
   ],
   "source": [
    "yagmurlu = False\n",
    "bulutlu = True\n",
    "\n",
    "if yagmurlu:  # if conditions calısması icin True olmalıdır\n",
    "    print('Semsiyeni al!!!')\n",
    "elif bulutlu:\n",
    "    print('semsiye arabada kalsin')\n",
    "else:\n",
    "    print('semsiyeye gerek yok!')"
   ]
  },
  {
   "cell_type": "code",
   "execution_count": 12,
   "metadata": {},
   "outputs": [
    {
     "name": "stdout",
     "output_type": "stream",
     "text": [
      "5 10'den daha kucuk\n"
     ]
    }
   ],
   "source": [
    "a = 5\n",
    "b = 10\n",
    "\n",
    "if a < b:\n",
    "    print(f'{a} {b}\\'den daha kucuk')  # f: jsdeki dolar işareti gibi variable kullanımını saglar.\n",
    "elif a == b:\n",
    "    print(f'{a} ve {b} esittir')\n",
    "else:\n",
    "    print(f'{a} {b}\\'den buyuktur')\n",
    "\n",
    "    "
   ]
  },
  {
   "cell_type": "code",
   "execution_count": 14,
   "metadata": {},
   "outputs": [
    {
     "name": "stdout",
     "output_type": "stream",
     "text": [
      "num is less than or equal to 10\n"
     ]
    }
   ],
   "source": [
    "num = 5\n",
    "\n",
    "if num > 10:\n",
    "  print(\"num is greater than 10\")\n",
    "else:\n",
    "  print(\"num is less than or equal to 10\")"
   ]
  },
  {
   "cell_type": "code",
   "execution_count": 15,
   "metadata": {},
   "outputs": [
    {
     "name": "stdout",
     "output_type": "stream",
     "text": [
      "num is less than or equal to 10\n"
     ]
    }
   ],
   "source": [
    "print(\"num is greater than 10\") if num > 10 else print(\"num is less than or equal to 10\")"
   ]
  },
  {
   "cell_type": "code",
   "execution_count": 16,
   "metadata": {},
   "outputs": [
    {
     "name": "stdout",
     "output_type": "stream",
     "text": [
      "num is less than or equal to 10\n"
     ]
    }
   ],
   "source": [
    "num = 5\n",
    "print(\"num is greater than 10\" if num > 10 else \"num is less than or equal to 10\")  # if koşulunun daha kısa hali."
   ]
  },
  {
   "cell_type": "code",
   "execution_count": 19,
   "metadata": {},
   "outputs": [
    {
     "name": "stdout",
     "output_type": "stream",
     "text": [
      "Bad request\n"
     ]
    }
   ],
   "source": [
    "status = 401\n",
    "\n",
    "match status:\n",
    "    case 200:\n",
    "        print('Sayfa 10 numara')\n",
    "    case 400 | 401:\n",
    "        print('Bad request')\n",
    "    case _:\n",
    "        print('Baska bir status code')"
   ]
  },
  {
   "cell_type": "code",
   "execution_count": null,
   "metadata": {},
   "outputs": [],
   "source": [
    "\n"
   ]
  },
  {
   "attachments": {},
   "cell_type": "markdown",
   "metadata": {},
   "source": [
    "### While"
   ]
  },
  {
   "cell_type": "code",
   "execution_count": 29,
   "metadata": {},
   "outputs": [
    {
     "name": "stdout",
     "output_type": "stream",
     "text": [
      "Geri sayim 5\n",
      "Geri sayim 4\n",
      "Geri sayim 3\n",
      "Geri sayim 2\n",
      "Geri sayim 1\n",
      "!!Ates!!\n"
     ]
    }
   ],
   "source": [
    "import time  # bvilt-in fonksiyonlar hicbir şeye ihtiyac duymazlar fakat bazı moduller time gibi import edene kadar calısmazlar.\n",
    "\n",
    "num = 5\n",
    "\n",
    "while num > 0:\n",
    "    print(f'Geri sayim {num}')\n",
    "    time.sleep(1) # sayım aralarında bir saniye beklemek için\n",
    "    num -= 1\n",
    "    \n",
    "print('!!Ates!!')"
   ]
  },
  {
   "cell_type": "code",
   "execution_count": 4,
   "metadata": {},
   "outputs": [
    {
     "name": "stdout",
     "output_type": "stream",
     "text": [
      "2 hakkınız kaldı. Lütfen tekrar deneyin.\n",
      "1 hakkınız kaldı. Lütfen tekrar deneyin.\n",
      "Giriş hakkınız kalmadı. Lütfen yöneticiyle iletişime geçin.\n"
     ]
    }
   ],
   "source": [
    " # pw = input(\"şifre giriniz: \")\n",
    "pw = ''\n",
    "giris_hakki = 3\n",
    "\n",
    "while pw != 'secret' and giris_hakki > 0:\n",
    "    pw = input('Sifreyi giriniz: ')\n",
    "    giris_hakki -= 1\n",
    "    if pw == 'secret':\n",
    "        print(\"Giriş yapıldı.\")\n",
    "    elif giris_hakki > 0:\n",
    "        print(f'{giris_hakki} hakkınız kaldı. Lütfen tekrar deneyin.')\n",
    "    else:\n",
    "        print(\"Giriş hakkınız kalmadı. Lütfen yöneticiyle iletişime geçin.\")"
   ]
  },
  {
   "cell_type": "code",
   "execution_count": null,
   "metadata": {},
   "outputs": [],
   "source": []
  },
  {
   "attachments": {},
   "cell_type": "markdown",
   "metadata": {},
   "source": [
    "### For Loop"
   ]
  },
  {
   "cell_type": "code",
   "execution_count": 36,
   "metadata": {},
   "outputs": [
    {
     "name": "stdout",
     "output_type": "stream",
     "text": [
      "g\n",
      "o\n",
      "r\n",
      "k\n",
      "e\n",
      "m\n"
     ]
    }
   ],
   "source": [
    "name = 'gorkem'\n",
    "\n",
    "for char in name:\n",
    "    print(char)"
   ]
  },
  {
   "cell_type": "code",
   "execution_count": 37,
   "metadata": {},
   "outputs": [
    {
     "name": "stdout",
     "output_type": "stream",
     "text": [
      "apple\n",
      "banana\n",
      "cherry\n"
     ]
    }
   ],
   "source": [
    "fruits = [\"apple\", \"banana\", \"cherry\"]\n",
    "\n",
    "for fruit in fruits:\n",
    "    print(fruit)"
   ]
  },
  {
   "cell_type": "code",
   "execution_count": 40,
   "metadata": {},
   "outputs": [
    {
     "name": "stdout",
     "output_type": "stream",
     "text": [
      "3\n",
      "13\n",
      "23\n",
      "33\n",
      "43\n"
     ]
    }
   ],
   "source": [
    "for num in range(3, 50, 10): # built- in fonksiyonudur. 3 ten baslayarak 10 ar artarak 50 ye kadar sayıları döndürür.\n",
    "    print(num)"
   ]
  },
  {
   "cell_type": "code",
   "execution_count": 42,
   "metadata": {},
   "outputs": [
    {
     "name": "stdout",
     "output_type": "stream",
     "text": [
      "red apple\n",
      "red banana\n",
      "red cherry\n",
      "big apple\n",
      "big banana\n",
      "big cherry\n",
      "tasty apple\n",
      "tasty banana\n",
      "tasty cherry\n"
     ]
    }
   ],
   "source": [
    "adjs = [\"red\", \"big\", \"tasty\"]\n",
    "fruits = [\"apple\", \"banana\", \"cherry\"]\n",
    "\n",
    "for adj in adjs:\n",
    "    for fruit in fruits:\n",
    "        print(adj, fruit)"
   ]
  },
  {
   "cell_type": "code",
   "execution_count": 46,
   "metadata": {},
   "outputs": [
    {
     "name": "stdout",
     "output_type": "stream",
     "text": [
      "apple\n"
     ]
    }
   ],
   "source": [
    "fruits = [\"apple\", \"banana\", \"cherry\"]\n",
    "\n",
    "for fruit in fruits:\n",
    "    if fruit == 'banana':\n",
    "        break\n",
    "    print(fruit)"
   ]
  },
  {
   "cell_type": "code",
   "execution_count": 51,
   "metadata": {},
   "outputs": [
    {
     "name": "stdout",
     "output_type": "stream",
     "text": [
      "1\n",
      "2\n",
      "3\n",
      "4\n"
     ]
    }
   ],
   "source": [
    "num = 1\n",
    "\n",
    "while num < 11:\n",
    "    if num == 5:\n",
    "        break\n",
    "    print(num)\n",
    "    num += 1"
   ]
  },
  {
   "cell_type": "code",
   "execution_count": 52,
   "metadata": {},
   "outputs": [
    {
     "name": "stdout",
     "output_type": "stream",
     "text": [
      "banana\n",
      "cherry\n"
     ]
    }
   ],
   "source": [
    "fruits = [\"apple\", \"banana\", \"cherry\"]\n",
    "\n",
    "for fruit in fruits:\n",
    "    if fruit == 'apple':\n",
    "        continue # apple i atlayarak pas gecer ve bananadan devam eder.\n",
    "    print(fruit)"
   ]
  },
  {
   "cell_type": "code",
   "execution_count": 58,
   "metadata": {},
   "outputs": [
    {
     "name": "stdout",
     "output_type": "stream",
     "text": [
      "1\n",
      "2\n",
      "3\n",
      "4\n",
      "6\n",
      "7\n",
      "8\n",
      "9\n",
      "10\n"
     ]
    }
   ],
   "source": [
    "num = 0\n",
    "\n",
    "while num < 10:\n",
    "    num += 1\n",
    "    if num == 5:\n",
    "        continue\n",
    "    print(num)"
   ]
  },
  {
   "attachments": {},
   "cell_type": "markdown",
   "metadata": {},
   "source": [
    "### return"
   ]
  },
  {
   "cell_type": "code",
   "execution_count": 61,
   "metadata": {},
   "outputs": [
    {
     "data": {
      "text/plain": [
       "125"
      ]
     },
     "execution_count": 61,
     "metadata": {},
     "output_type": "execute_result"
    }
   ],
   "source": [
    "def my_func(num):\n",
    "    return num ** 3\n",
    "\n",
    "my_func(5)"
   ]
  },
  {
   "cell_type": "code",
   "execution_count": 64,
   "metadata": {},
   "outputs": [
    {
     "name": "stdout",
     "output_type": "stream",
     "text": [
      "Hi there!\n"
     ]
    }
   ],
   "source": [
    "my_string = 'some'\n",
    "\n",
    "for char in my_string:\n",
    "    pass # pass: forun içindeki kodu sonra yazmak ve hata almamak icin şimdilik pas geciyoruz.\n",
    "\n",
    "print('Hi there!')"
   ]
  },
  {
   "cell_type": "code",
   "execution_count": null,
   "metadata": {},
   "outputs": [],
   "source": []
  }
 ],
 "metadata": {
  "kernelspec": {
   "display_name": "Python 3",
   "language": "python",
   "name": "python3"
  },
  "language_info": {
   "codemirror_mode": {
    "name": "ipython",
    "version": 3
   },
   "file_extension": ".py",
   "mimetype": "text/x-python",
   "name": "python",
   "nbconvert_exporter": "python",
   "pygments_lexer": "ipython3",
   "version": "3.11.3"
  },
  "orig_nbformat": 4
 },
 "nbformat": 4,
 "nbformat_minor": 2
}
